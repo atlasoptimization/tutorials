{
 "cells": [
  {
   "cell_type": "markdown",
   "metadata": {},
   "source": [
    "# Pyro Crash Course – Generating and Exploring Synthetic Sensor Data\n",
    "\n",
    "This notebook is the **second step** in the Pyro crash course.\n",
    "\n",
    "In this tutorial, we:\n",
    "- **Generate synthetic temperature measurements** from simulated thermistors\n",
    "- Introduce realistic effects such as **device variability**, **systematic errors**, **nonlinearities**, and **random noise**\n",
    "- Use **PyTorch + Pyro** to create the data probabilistically\n",
    "- Produce plots to **visualize how different effects shape the data**\n",
    "\n",
    "The dataset we build here will serve as input for all future modeling stages.\n",
    "\n",
    "For this, do the following:\n",
    "   1. Imports and definitions\n",
    "   2. Generate ground truth temperatures\n",
    "   3. Generate linear responses per thermistor\n",
    "   4. Add a gross error to one thermistor\n",
    "   5. Add nonlinear trend function\n",
    "   6. Add noise to dataset\n",
    "   7. Plots and illustrations\n",
    "   8. Preliminary interpretations\n",
    "    \n",
    "---\n",
    "\n",
    "> ⚠️ While we control the generative process, our future models will treat the data as \"raw measurements\" — the ground truth is hidden.  \n",
    "> This gives us an excellent basis for evaluating how well our probabilistic models uncover the structure we planted.\n",
    "\n",
    "---\n",
    "\n",
    "```\n",
    "*This notebook and series are created for educational purposes by Dr. Jemil Avers Butt, Atlas Optimization GmbH – [www.atlasoptimization.com](https://www.atlasoptimization.com).*\n",
    "```\n"
   ]
  },
  {
   "cell_type": "markdown",
   "metadata": {},
   "source": [
    "**Scenario:**  \n",
    "You are calibrating a batch of 5 thermistors in a climate chamber. The chamber generates a perfectly controlled linear temperature ramp from 10 to 20 °C. Each sensor responds differently due to manufacturing variation, and we simulate several sources of error.\n"
   ]
  },
  {
   "cell_type": "markdown",
   "metadata": {},
   "source": [
    "## 1. Imports and definitions\n",
    "\n",
    "Here we import `pyro`, `torch`, and `matplotlib`.\n",
    "\n",
    "Even though this notebook doesn't perform inference, we use Pyro to sample from distributions — staying within the probabilistic mindset from the beginning.\n",
    "\n",
    "We define:\n",
    "- `n_device`: the number of thermistors\n",
    "- `n_measure`: how many readings we take per device\n",
    "- `n_faulty`: how many devices are deliberately broken\n",
    "- `T_low`, `T_high`: the climate chamber ramp range\n",
    "\n",
    "We also set random seeds for full reproducibility.\n"
   ]
  },
  {
   "cell_type": "code",
   "execution_count": 9,
   "metadata": {},
   "outputs": [],
   "source": [
    "\"\"\"\n",
    "    1. Imports and definitions\n",
    "\"\"\"\n",
    "\n",
    "# i) Imports\n",
    "import pyro\n",
    "import torch\n",
    "import pandas\n",
    "import matplotlib.pyplot as plt\n",
    "\n",
    "# ii) Definitions\n",
    "n_device = 5\n",
    "n_measure = 100\n",
    "T_low = 10\n",
    "T_high = 20\n",
    "n_faulty = 1\n",
    "\n",
    "pyro.set_rng_seed(0)\n"
   ]
  },
  {
   "cell_type": "markdown",
   "metadata": {},
   "source": [
    "## 2. Generate ground truth temperature\n",
    "\n",
    "We simulate the true ambient temperature inside the climate chamber.\n",
    "\n",
    "It linearly increases from `T_low` to `T_high`.  \n",
    "We duplicate this signal for all thermistors so they all \"saw\" the same temperature.\n",
    "\n",
    "$$\n",
    "T_{\\text{true}}(t) = \\text{linspace}(T_{\\text{low}}, T_{\\text{high}}, N)\n",
    "$$\n"
   ]
  },
  {
   "cell_type": "code",
   "execution_count": 10,
   "metadata": {},
   "outputs": [],
   "source": [
    "\"\"\"\n",
    "    2. Generate ground truth temperatures\n",
    "\"\"\"\n",
    "\n",
    "# i) Ground truth temperature\n",
    "T_true = torch.linspace(T_low, T_high, n_measure)\n",
    "T_true = T_true.repeat([n_device,1])\n"
   ]
  },
  {
   "cell_type": "markdown",
   "metadata": {},
   "source": [
    "## 3. Generate linear responses per thermistor\n",
    "\n",
    "Each thermistor transforms the true temperature into a raw reading via a simple linear model:\n",
    "\n",
    "$$\n",
    "T_{\\text{measured}}^{(i)} = \\alpha_0^{(i)} + \\alpha_1^{(i)} \\cdot T_{\\text{true}}\n",
    "$$\n",
    "\n",
    "Where:\n",
    "- $\\alpha_0^{(i)}$: offset (bias) of sensor *i*\n",
    "- $\\alpha_1^{(i)}$: sensitivity or scaling error of sensor *i*\n",
    "\n",
    "These parameters are sampled from Gaussian distributions to reflect manufacturing variation. This introduces **heterogeneity** across devices.\n"
   ]
  },
  {
   "cell_type": "code",
   "execution_count": 11,
   "metadata": {},
   "outputs": [],
   "source": [
    "\"\"\"\n",
    "    3. Generate linear responses per thermistor\n",
    "\"\"\"\n",
    "\n",
    "# i) Define prior distributions for alpha_0, alpha_1\n",
    "mu_alpha_0 = torch.zeros([n_device,1])\n",
    "sigma_alpha_0 = 0.1*torch.ones([n_device,1])\n",
    "mu_alpha_1 = torch.ones([n_device,1])\n",
    "sigma_alpha_1 = 0.1*torch.ones([n_device,1])\n",
    "\n",
    "alpha_0_dist = pyro.distributions.Normal(loc = mu_alpha_0, scale = sigma_alpha_0)\n",
    "alpha_1_dist = pyro.distributions.Normal(loc = mu_alpha_1, scale = sigma_alpha_1)\n",
    "\n",
    "# ii) Sample to generate offsets and scales\n",
    "alpha_0 = pyro.sample('alpha_0', alpha_0_dist)\n",
    "alpha_1 = pyro.sample('alpha_1', alpha_1_dist)\n",
    "\n",
    "# iii) Generate linear responses to T_true\n",
    "T_meas_lin = alpha_0 + alpha_1 * T_true\n"
   ]
  },
  {
   "cell_type": "markdown",
   "metadata": {},
   "source": [
    "## 4. Add a gross error to one thermistor\n",
    "\n",
    "We simulate a fault in one sensor (e.g., miscalibration, damaged circuitry) by adding a large offset:\n",
    "\n",
    "$$\n",
    "T_{\\text{measured}}^{(0)} \\leftarrow T_{\\text{measured}}^{(0)} + 5\n",
    "$$\n",
    "\n",
    "This will help test whether future models can identify **outlier behavior** or classify this sensor differently.\n"
   ]
  },
  {
   "cell_type": "code",
   "execution_count": 12,
   "metadata": {},
   "outputs": [],
   "source": [
    "\"\"\"\n",
    "    4. Add a gross error to one thermistor\n",
    "\"\"\"\n",
    "\n",
    "# i) Dataset nr 1 contains a gross error\n",
    "index_gross = 0\n",
    "impact_gross = torch.zeros([n_device, n_measure])\n",
    "impact_gross[index_gross, : ] = 5 \n",
    "T_meas_gross = T_meas_lin + impact_gross\n"
   ]
  },
  {
   "cell_type": "markdown",
   "metadata": {},
   "source": [
    "## 5. Add nonlinear trend function\n",
    "\n",
    "We now add a **temperature-dependent nonlinearity**, such as:\n",
    "- self-heating,\n",
    "- saturation,\n",
    "- nonlinear resistance response.\n",
    "\n",
    "This is modeled with a simple sine wave:\n",
    "$$\n",
    "T_{\\text{nonlinear}} = T_{\\text{gross}} + 0.5 \\cdot \\sin(T_{\\text{true}})\n",
    "$$\n",
    "\n",
    "Visually, this bends the straight lines into curves.\n"
   ]
  },
  {
   "cell_type": "code",
   "execution_count": 17,
   "metadata": {},
   "outputs": [],
   "source": [
    "\"\"\"\n",
    "    5. Add nonlinear trend function\n",
    "\"\"\"\n",
    "\n",
    "# i) Overlay sine function\n",
    "nonlinear_trend = 0.5*torch.sin(T_true)\n",
    "T_meas_nonlinear = T_meas_gross + nonlinear_trend\n"
   ]
  },
  {
   "cell_type": "markdown",
   "metadata": {},
   "source": [
    "## 6. Add noise to dataset\n",
    "\n",
    "Finally, we inject uncorrelated noise to reflect electronic jitter or environmental perturbations.\n",
    "\n",
    "Each measurement is perturbed with independent Gaussian noise:\n",
    "$$\n",
    "T_{\\text{final}} = T_{\\text{nonlinear}} + \\epsilon, \\quad \\epsilon \\sim \\mathcal{N}(0, 0.3)\n",
    "$$\n",
    "\n",
    "This gives us a **realistic-looking sensor dataset** with:\n",
    "- structured device behavior,\n",
    "- one faulty unit,\n",
    "- nonlinear effects,\n",
    "- stochastic variation.\n",
    "This dataset can now be passed as an input to our sequence of modelling challenges - and we will always know how wrong we are exactly.\n"
   ]
  },
  {
   "cell_type": "code",
   "execution_count": 18,
   "metadata": {},
   "outputs": [],
   "source": [
    "\"\"\"\n",
    "    6. Add noise to dataset\n",
    "\"\"\"\n",
    "\n",
    "# i) Finally, add some noise\n",
    "noise_dist = pyro.distributions.Normal(loc = torch.zeros([n_device, n_measure]), scale = 0.3)\n",
    "noise = pyro.sample('noise', noise_dist)\n",
    "T_meas_noisy = T_meas_nonlinear + noise\n"
   ]
  },
  {
   "cell_type": "markdown",
   "metadata": {},
   "source": [
    "## 7. Visualization\n",
    "\n",
    "We create five scatter plots to illustrate how each transformation progressively distorts the measurements.\n",
    "\n",
    "- Plot 1: perfect identity (truth vs. truth)\n",
    "- Plot 2: linear calibration effects\n",
    "- Plot 3: gross error added\n",
    "- Plot 4: nonlinear effect added\n",
    "- Plot 5: noise added\n",
    "\n",
    "This helps **build intuition** for what each model will try to recover.\n"
   ]
  },
  {
   "cell_type": "code",
   "execution_count": 15,
   "metadata": {},
   "outputs": [
    {
     "data": {
      "text/plain": [
       "<matplotlib.legend.Legend at 0x7fd5169df490>"
      ]
     },
     "execution_count": 15,
     "metadata": {},
     "output_type": "execute_result"
    },
    {
     "data": {
      "image/png": "[encoded data removed]",
      "text/plain": [
       "<Figure size 1440x288 with 5 Axes>"
      ]
     },
     "metadata": {
      "needs_background": "light"
     },
     "output_type": "display_data"
    }
   ],
   "source": [
    "\"\"\"\n",
    "    7. Plots and illustrations\n",
    "\"\"\"\n",
    "\n",
    "# i) Plot all of the data\n",
    "# Here we illustrate the progression from ground truth towards evermore distorted\n",
    "# data.\n",
    "\n",
    "# Create the figure and 1x5 subplot grid\n",
    "fig, axes = plt.subplots(1, 5, figsize=(20, 4), sharex=False, sharey=False)\n",
    "# Global y-axis limits\n",
    "y_min = min(T_true.min(), T_meas_noisy.min())\n",
    "y_max = max(T_true.max(), T_meas_noisy.max())\n",
    "\n",
    "# First plot: T_true vs T_true\n",
    "axes[0].scatter(T_true[0,:], T_true[0,:], color='black', s=10)\n",
    "axes[0].set_title(\"Case: error-free thermistor\")\n",
    "axes[0].set_xlabel(\"T_true\")\n",
    "axes[0].set_ylabel(\"T_true\")\n",
    "axes[0].set_ylim(y_min, y_max)\n",
    "\n",
    "# Second plot: T_true vs T_meas_lin\n",
    "for i in range(n_device):\n",
    "    axes[1].scatter(T_true[i,:], T_meas_lin[i,:], s=10, label=f\"T_meas[{i}]\")\n",
    "axes[1].set_title(\"Case: linear thermistor effects\")\n",
    "axes[1].set_xlabel(\"T_true\")\n",
    "axes[1].set_ylabel(\"T_meas\")\n",
    "axes[1].set_ylim(y_min, y_max)\n",
    "\n",
    "# Third plot: T_true vs T_meas_gross\n",
    "for i in range(n_device):\n",
    "    axes[2].scatter(T_true[i,:], T_meas_gross[i,:], s=10, label=f\"T_meas[{i}]\")\n",
    "axes[2].set_title(\"Case: + gross error\")\n",
    "axes[2].set_xlabel(\"T_true\")\n",
    "axes[2].set_ylabel(\"T_meas\")\n",
    "axes[2].set_ylim(y_min, y_max)\n",
    "\n",
    "\n",
    "# Fourth plot: T_true vs T_meas_nonlinear\n",
    "for i in range(n_device):\n",
    "    axes[3].scatter(T_true[i,:], T_meas_nonlinear[i,:], s=10, label=f\"T_meas[{i}]\")\n",
    "axes[3].set_title(\"Case: + nonlinear trend\")\n",
    "axes[3].set_xlabel(\"T_true\")\n",
    "axes[3].set_ylabel(\"T_meas\")\n",
    "axes[3].set_ylim(y_min, y_max)\n",
    "\n",
    "# Fifth plot: T_true vs T_meas_noisy\n",
    "for i in range(n_device):\n",
    "    axes[4].scatter(T_true[i,:], T_meas_noisy[i,:], s=10, label=f\"T_meas[{i}]\")\n",
    "axes[4].set_title(\"Case: + noise\")\n",
    "axes[4].set_xlabel(\"T_true\")\n",
    "axes[4].set_ylabel(\"T_meas\")\n",
    "axes[4].set_ylim(y_min, y_max)\n",
    "axes[4].legend()\n"
   ]
  },
  {
   "cell_type": "markdown",
   "metadata": {},
   "source": [
    "## 8. Preliminary interpretations and export\n",
    "\n",
    "Now that we know how the data were generated, we can sketch what each of the upcoming models might \"see\" or struggle with:\n",
    "\n",
    "| Model                      | What it can explain / What it can't |\n",
    "|---------------------------|--------------------------------------|\n",
    "| Model 0 – fixed params     | Captures average trend; misses device-level details |\n",
    "| Model 1 – deterministic fit| Slightly better fit, but no uncertainty |\n",
    "| Model 2 – latent variables | Quantifies uncertainty per parameter |\n",
    "| Model 3 – hierarchical     | Learns per-device behavior (offset/slope) |\n",
    "| Model 4 – discrete faults  | Should flag the broken sensor |\n",
    "| Model 5 – neural network   | Can absorb nonlinearities; may overfit |\n",
    "\n",
    "This table will serve as a **roadmap** through the next notebooks. Each new model will attempt to explain more of the structure we planted today.\n",
    "\n",
    "We export now the data into a csv that will be imported in the next sessions, in which probabilistic models are built and tested against this data.\n"
   ]
  },
  {
   "cell_type": "code",
   "execution_count": 16,
   "metadata": {},
   "outputs": [],
   "source": [
    "df = pandas.DataFrame({\n",
    "    'sensor_id': torch.arange(n_device).repeat_interleave(n_measure).numpy(),\n",
    "    'time_step': torch.arange(n_measure).tile(n_device).numpy(),\n",
    "    'T_true': T_true.flatten().numpy(),\n",
    "    'T_measured': T_meas_noisy.flatten().numpy()\n",
    "})\n",
    "\n",
    "output_path = \"sensor_measurements.csv\"\n",
    "df.to_csv(output_path, index=False)\n"
   ]
  },
  {
   "cell_type": "markdown",
   "metadata": {},
   "source": [
    "---\n",
    "\n",
    "## 🧾 Summary\n",
    "\n",
    "In this notebook, we:\n",
    "\n",
    "✅ Generated synthetic sensor data from a set of thermistors  \n",
    "✅ Built a ground-truth model with linear device variation, one gross error, a nonlinear trend, and Gaussian noise  \n",
    "✅ Visualized each distortion step to understand how it changes the data  \n",
    "✅ Created a realistic testbed for evaluating future probabilistic models\n",
    "\n",
    "---\n",
    "\n",
    "📌 In the next notebook, we'll define our **first generative model** and use Pyro's SVI to estimate its parameters from the dataset we've built here.\n"
   ]
  },
  {
   "cell_type": "code",
   "execution_count": null,
   "metadata": {},
   "outputs": [],
   "source": []
  }
 ],
 "metadata": {
  "kernelspec": {
   "display_name": "Python 3",
   "language": "python",
   "name": "python3"
  },
  "language_info": {
   "codemirror_mode": {
    "name": "ipython",
    "version": 3
   },
   "file_extension": ".py",
   "mimetype": "text/x-python",
   "name": "python",
   "nbconvert_exporter": "python",
   "pygments_lexer": "ipython3",
   "version": "3.8.3"
  }
 },
 "nbformat": 4,
 "nbformat_minor": 4
}
